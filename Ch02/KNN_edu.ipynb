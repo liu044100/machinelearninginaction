{
 "cells": [
  {
   "cell_type": "code",
   "execution_count": null,
   "metadata": {
    "collapsed": true,
    "deletable": true,
    "editable": true
   },
   "outputs": [],
   "source": [
    "from numpy import *\n",
    "import operator\n",
    "\n",
    "dataSet = array([[1.0, 1.1], [1.0, 1.0], [0, 0], [0, 0.1]])\n",
    "\n",
    "labels = ['A', 'A', 'B', 'B']\n",
    "\n",
    "inX = array([1.0, 2.1])\n",
    "\n",
    "\n",
    "def classify0(inX, dataSet, labels, k):\n",
    "    # matrix structure\n",
    "    dataSetSize = dataSet.shape[0]\n",
    "    \n",
    "    # 1. get distance\n",
    "    # tile, reapt to get a matrix\n",
    "    diffMat = tile(inX, (dataSetSize, 1)) - dataSet\n",
    "    sqDiffMat = diffMat ** 2\n",
    "    sqDistances = sqDiffMat.sum(axis=1)\n",
    "    \n",
    "    distances = sqDistances ** 0.5\n",
    "    \n",
    "    # 2. min distance list\n",
    "    # get index by order\n",
    "    sortedDistIndicies = distances.argsort()\n",
    "    \n",
    "    # 3. get label count\n",
    "    labelCount = {}\n",
    "    for i in range(k):\n",
    "        thisLabel = labels[sortedDistIndicies[i]]\n",
    "        labelCount[thisLabel] = labelCount.get(thisLabel, 0) + 1\n",
    "    \n",
    "    # 4. get nearest, max label count\n",
    "    sortedLabelCount = sorted(labelCount.items, key=operator.itemgetter(1), reverse=True)\n",
    "    \n",
    "    return sortedLabelCount[0][0]"
   ]
  },
  {
   "cell_type": "code",
   "execution_count": 11,
   "metadata": {
    "collapsed": false,
    "deletable": true,
    "editable": true
   },
   "outputs": [
    {
     "name": "stdout",
     "output_type": "stream",
     "text": [
      "['.DS_Store', '.idea', '.ipynb_checkpoints', 'datingTestSet.txt', 'datingTestSet2.txt', 'datingTestSetTest.txt', 'digits', 'digits.zip', 'EXTRAS', 'kNN.py', 'KNN_edu.ipynb', 'kNN_edu.py', 'README.txt']\n"
     ]
    }
   ],
   "source": [
    "import os\n",
    "items = os.listdir(\".\")\n",
    "print(items)"
   ]
  },
  {
   "cell_type": "code",
   "execution_count": null,
   "metadata": {
    "collapsed": true
   },
   "outputs": [],
   "source": []
  }
 ],
 "metadata": {
  "kernelspec": {
   "display_name": "Python 3",
   "language": "python",
   "name": "python3"
  },
  "language_info": {
   "codemirror_mode": {
    "name": "ipython",
    "version": 3
   },
   "file_extension": ".py",
   "mimetype": "text/x-python",
   "name": "python",
   "nbconvert_exporter": "python",
   "pygments_lexer": "ipython3",
   "version": "3.6.1"
  }
 },
 "nbformat": 4,
 "nbformat_minor": 0
}
